{
 "cells": [
  {
   "cell_type": "markdown",
   "id": "celtic-aurora",
   "metadata": {},
   "source": [
    "# Example of how to use the nuQLOUD framework\n",
    "In this notebook, we demonstrate how to use the nuQLOUD framework. For that we first generate a synthetic dataset (a set of random points in 3D), then use voro++ to generate organisational features, which we then explore a little bit."
   ]
  },
  {
   "cell_type": "code",
   "execution_count": 1,
   "id": "undefined-breathing",
   "metadata": {},
   "outputs": [],
   "source": [
    "import nuqloud\n",
    "import numpy as np\n",
    "import pandas as pd\n",
    "import matplotlib.pyplot as plt\n",
    "import tqdm\n",
    "import vedo\n",
    "vedo.settings.notebookBackend = 'k3d'\n",
    "vedo.settings.k3dPointShader = '3d'"
   ]
  },
  {
   "cell_type": "markdown",
   "id": "impressed-firmware",
   "metadata": {},
   "source": [
    "## Generate random points"
   ]
  },
  {
   "cell_type": "code",
   "execution_count": 4,
   "id": "organized-methodology",
   "metadata": {},
   "outputs": [],
   "source": [
    "x = 20  # number of points\n",
    "points = np.array(list(np.ndindex(x,x,x))) * 10\n"
   ]
  },
  {
   "cell_type": "code",
   "execution_count": 12,
   "id": "creative-wallpaper",
   "metadata": {},
   "outputs": [
    {
     "data": {
      "application/vnd.jupyter.widget-view+json": {
       "model_id": "7f6f7bd6818f4faf926e6dc7e2fc33d1",
       "version_major": 2,
       "version_minor": 0
      },
      "text/plain": [
       "Plot(antialias=True, axes=['x', 'y', 'z'], axes_helper=1.0, background_color=16777215, camera=[2, -3, 0.2, 0.0…"
      ]
     },
     "metadata": {},
     "output_type": "display_data"
    }
   ],
   "source": [
    "vedo.show(vedo.Points(points).color('r'), vedo.Points(np.array(list(np.ndindex(x//2,x//2,x//2))) * 10 + 5).color('b'))"
   ]
  },
  {
   "cell_type": "markdown",
   "id": "horizontal-referral",
   "metadata": {},
   "source": [
    "3D rendering of the initial point distribution. All points are used in the following processing. Colours are just to illustrate the difference in point density in one corner."
   ]
  },
  {
   "cell_type": "code",
   "execution_count": 14,
   "id": "authentic-wholesale",
   "metadata": {},
   "outputs": [],
   "source": [
    "points = np.vstack([points, np.array(list(np.ndindex(x//2,x//2,x//2))) * 10 + 5])"
   ]
  },
  {
   "cell_type": "code",
   "execution_count": 15,
   "id": "future-commissioner",
   "metadata": {},
   "outputs": [],
   "source": [
    "noise_factor = 5\n",
    "points_noise = points + (np.random.random(points.shape) * noise_factor)"
   ]
  },
  {
   "cell_type": "code",
   "execution_count": 16,
   "id": "careful-hobby",
   "metadata": {},
   "outputs": [
    {
     "data": {
      "application/vnd.jupyter.widget-view+json": {
       "model_id": "97be0472df99462f8ee6d1c4b5e8aa9b",
       "version_major": 2,
       "version_minor": 0
      },
      "text/plain": [
       "Plot(antialias=True, axes=['x', 'y', 'z'], axes_helper=1.0, background_color=16777215, camera=[2, -3, 0.2, 0.0…"
      ]
     },
     "metadata": {},
     "output_type": "display_data"
    }
   ],
   "source": [
    "vedo.show(vedo.Points(points_noise).color('b'))"
   ]
  },
  {
   "cell_type": "markdown",
   "id": "certified-remainder",
   "metadata": {},
   "source": [
    "3D rendering of the noisy point distribution."
   ]
  },
  {
   "cell_type": "code",
   "execution_count": 18,
   "id": "dated-optimization",
   "metadata": {},
   "outputs": [],
   "source": [
    "df_reg = pd.DataFrame(points, columns=list('xyz'))\n",
    "df_reg['cell id'] = df_reg.index + 1\n",
    "df_reg['sample'] = 'regular'\n",
    "\n",
    "df_noise = pd.DataFrame(points_noise, columns=list('xyz'))\n",
    "df_noise['cell id'] = df_noise.index + 1\n",
    "df_noise['sample'] = 'noisy'\n",
    "\n",
    "df = pd.concat([df_reg, df_noise])"
   ]
  },
  {
   "cell_type": "code",
   "execution_count": 20,
   "id": "speaking-paintball",
   "metadata": {},
   "outputs": [
    {
     "data": {
      "text/html": [
       "<div>\n",
       "<style scoped>\n",
       "    .dataframe tbody tr th:only-of-type {\n",
       "        vertical-align: middle;\n",
       "    }\n",
       "\n",
       "    .dataframe tbody tr th {\n",
       "        vertical-align: top;\n",
       "    }\n",
       "\n",
       "    .dataframe thead th {\n",
       "        text-align: right;\n",
       "    }\n",
       "</style>\n",
       "<table border=\"1\" class=\"dataframe\">\n",
       "  <thead>\n",
       "    <tr style=\"text-align: right;\">\n",
       "      <th></th>\n",
       "      <th>x</th>\n",
       "      <th>y</th>\n",
       "      <th>z</th>\n",
       "      <th>cell id</th>\n",
       "      <th>sample</th>\n",
       "    </tr>\n",
       "  </thead>\n",
       "  <tbody>\n",
       "    <tr>\n",
       "      <th>0</th>\n",
       "      <td>0.000000</td>\n",
       "      <td>0.000000</td>\n",
       "      <td>0.000000</td>\n",
       "      <td>1</td>\n",
       "      <td>regular</td>\n",
       "    </tr>\n",
       "    <tr>\n",
       "      <th>1</th>\n",
       "      <td>0.000000</td>\n",
       "      <td>0.000000</td>\n",
       "      <td>10.000000</td>\n",
       "      <td>2</td>\n",
       "      <td>regular</td>\n",
       "    </tr>\n",
       "    <tr>\n",
       "      <th>2</th>\n",
       "      <td>0.000000</td>\n",
       "      <td>0.000000</td>\n",
       "      <td>20.000000</td>\n",
       "      <td>3</td>\n",
       "      <td>regular</td>\n",
       "    </tr>\n",
       "    <tr>\n",
       "      <th>3</th>\n",
       "      <td>0.000000</td>\n",
       "      <td>0.000000</td>\n",
       "      <td>30.000000</td>\n",
       "      <td>4</td>\n",
       "      <td>regular</td>\n",
       "    </tr>\n",
       "    <tr>\n",
       "      <th>4</th>\n",
       "      <td>0.000000</td>\n",
       "      <td>0.000000</td>\n",
       "      <td>40.000000</td>\n",
       "      <td>5</td>\n",
       "      <td>regular</td>\n",
       "    </tr>\n",
       "    <tr>\n",
       "      <th>...</th>\n",
       "      <td>...</td>\n",
       "      <td>...</td>\n",
       "      <td>...</td>\n",
       "      <td>...</td>\n",
       "      <td>...</td>\n",
       "    </tr>\n",
       "    <tr>\n",
       "      <th>9995</th>\n",
       "      <td>96.617447</td>\n",
       "      <td>96.444925</td>\n",
       "      <td>59.777410</td>\n",
       "      <td>9996</td>\n",
       "      <td>noisy</td>\n",
       "    </tr>\n",
       "    <tr>\n",
       "      <th>9996</th>\n",
       "      <td>98.303484</td>\n",
       "      <td>97.045749</td>\n",
       "      <td>67.891763</td>\n",
       "      <td>9997</td>\n",
       "      <td>noisy</td>\n",
       "    </tr>\n",
       "    <tr>\n",
       "      <th>9997</th>\n",
       "      <td>98.295800</td>\n",
       "      <td>97.934389</td>\n",
       "      <td>78.911608</td>\n",
       "      <td>9998</td>\n",
       "      <td>noisy</td>\n",
       "    </tr>\n",
       "    <tr>\n",
       "      <th>9998</th>\n",
       "      <td>97.831606</td>\n",
       "      <td>95.462480</td>\n",
       "      <td>86.726837</td>\n",
       "      <td>9999</td>\n",
       "      <td>noisy</td>\n",
       "    </tr>\n",
       "    <tr>\n",
       "      <th>9999</th>\n",
       "      <td>97.979005</td>\n",
       "      <td>98.676292</td>\n",
       "      <td>98.208798</td>\n",
       "      <td>10000</td>\n",
       "      <td>noisy</td>\n",
       "    </tr>\n",
       "  </tbody>\n",
       "</table>\n",
       "<p>20000 rows × 5 columns</p>\n",
       "</div>"
      ],
      "text/plain": [
       "              x          y          z  cell id   sample\n",
       "0      0.000000   0.000000   0.000000        1  regular\n",
       "1      0.000000   0.000000  10.000000        2  regular\n",
       "2      0.000000   0.000000  20.000000        3  regular\n",
       "3      0.000000   0.000000  30.000000        4  regular\n",
       "4      0.000000   0.000000  40.000000        5  regular\n",
       "...         ...        ...        ...      ...      ...\n",
       "9995  96.617447  96.444925  59.777410     9996    noisy\n",
       "9996  98.303484  97.045749  67.891763     9997    noisy\n",
       "9997  98.295800  97.934389  78.911608     9998    noisy\n",
       "9998  97.831606  95.462480  86.726837     9999    noisy\n",
       "9999  97.979005  98.676292  98.208798    10000    noisy\n",
       "\n",
       "[20000 rows x 5 columns]"
      ]
     },
     "execution_count": 20,
     "metadata": {},
     "output_type": "execute_result"
    }
   ],
   "source": [
    "df  # This is the main data frame that we will be working with."
   ]
  },
  {
   "cell_type": "markdown",
   "id": "mysterious-masters",
   "metadata": {},
   "source": [
    "`df` columns are \n",
    "* `x, y, z`: coordinates\n",
    "* `cell id`: ID of individual point. Has to be > 0 and integer for voro++\n",
    "* `sample`: disciminate different samples by category"
   ]
  },
  {
   "cell_type": "markdown",
   "id": "convinced-trick",
   "metadata": {},
   "source": [
    "## Generate restricted Voronoi diagram and organisational features\n",
    "First, we generate a restricted Voronoi diagram using our modified version of voro++. The modification is that we can call a radially restricted Voronoi diagram from the command line (this is not implemented in the original voro++ code).\n",
    "Then we evaluate the Voronoi diagram and generate features from it. Moreover, we generate a kernel density estimation at different length scales (multi scale density). \n",
    "We do this for every sample individually."
   ]
  },
  {
   "cell_type": "code",
   "execution_count": 21,
   "id": "large-justice",
   "metadata": {},
   "outputs": [
    {
     "name": "stderr",
     "output_type": "stream",
     "text": [
      "100%|██████████| 8/8 [00:01<00:00,  6.69it/s]\n",
      "Voronoi cell creation: 100%|██████████| 8000/8000 [00:00<00:00, 10028.53it/s]\n",
      "Adaptive radial restriction: 100%|██████████| 2168/2168 [00:05<00:00, 414.55it/s]\n",
      "Voronoi cell creation: 100%|██████████| 9914/9914 [00:00<00:00, 11371.86it/s]\n",
      "number of neighbours: 100%|██████████| 8000/8000 [00:01<00:00, 4606.36it/s]\n",
      "voronoi density: 100%|██████████| 8000/8000 [00:00<00:00, 8634.98it/s]\n",
      "neighbourhood voronoi volume: 100%|██████████| 8000/8000 [00:00<00:00, 12899.79it/s]\n",
      "neighbourhood voronoi sphericity: 100%|██████████| 8000/8000 [00:00<00:00, 12948.81it/s]\n",
      "neighbourhood n neighbours: 100%|██████████| 8000/8000 [00:00<00:00, 12278.61it/s]\n",
      "neighbourhood centroid offset: 100%|██████████| 8000/8000 [00:00<00:00, 12893.01it/s]\n",
      "100%|██████████| 8/8 [00:01<00:00,  6.67it/s]\n",
      "Voronoi cell creation: 100%|██████████| 10000/10000 [00:01<00:00, 5737.81it/s]\n",
      "Adaptive radial restriction: 100%|██████████| 2223/2223 [00:05<00:00, 397.43it/s]\n",
      "Voronoi cell creation: 100%|██████████| 14788/14788 [00:02<00:00, 5151.20it/s]\n",
      "number of neighbours: 100%|██████████| 10000/10000 [00:02<00:00, 3714.88it/s]\n",
      "voronoi density: 100%|██████████| 10000/10000 [00:02<00:00, 4085.48it/s]\n",
      "neighbourhood voronoi volume: 100%|██████████| 10000/10000 [00:01<00:00, 6533.41it/s]\n",
      "neighbourhood voronoi sphericity: 100%|██████████| 10000/10000 [00:01<00:00, 6501.43it/s]\n",
      "neighbourhood n neighbours: 100%|██████████| 10000/10000 [00:01<00:00, 6375.76it/s]\n",
      "neighbourhood centroid offset: 100%|██████████| 10000/10000 [00:01<00:00, 6529.14it/s]\n"
     ]
    }
   ],
   "source": [
    "list_df = []\n",
    "for sid in df['sample'].unique():\n",
    "    sdf = df.loc[df['sample'] == sid].copy()\n",
    "    sdf = nuqloud.Voronoi.voronoi_restricted(sdf)\n",
    "    sdf = nuqloud.FeatureGeneration.voronoi_features(sdf)\n",
    "    nuqloud.FeatureGeneration.multi_scale_density(sdf, np.arange(5,44,5))\n",
    "    list_df.append(sdf)\n",
    "df = pd.concat(list_df)"
   ]
  },
  {
   "cell_type": "markdown",
   "id": "heated-persian",
   "metadata": {},
   "source": [
    "## Visualisation\n",
    "Here we illustrate the distributions of organisational features on our test data in 3D by colouring the points according to their feature values."
   ]
  },
  {
   "cell_type": "code",
   "execution_count": 23,
   "id": "moved-butter",
   "metadata": {},
   "outputs": [
    {
     "data": {
      "text/plain": [
       "Index(['x', 'y', 'z', 'cell id', 'sample', 'shell 5', 'shell 10', 'shell 15',\n",
       "       'shell 20', 'shell 25', 'shell 30', 'shell 35', 'shell 40',\n",
       "       'vertex number', 'edge number', 'edge distance', 'face number',\n",
       "       'voronoi surface area', 'voronoi volume', 'voronoi sphericity',\n",
       "       'x centroid', 'y centroid', 'z centroid', 'centroid offset',\n",
       "       'neigbour cell ids', 'neighbour boundaries', 'coordinates vertices',\n",
       "       'vertices per face', 'point type', 'n neighbours',\n",
       "       'density voronoi mean', 'density voronoi std',\n",
       "       'neighbourhood voronoi volume mean', 'neighbourhood voronoi volume std',\n",
       "       'neighbourhood voronoi sphericity mean',\n",
       "       'neighbourhood voronoi sphericity std',\n",
       "       'neighbourhood n neighbours mean', 'neighbourhood n neighbours std',\n",
       "       'neighbourhood centroid offset mean',\n",
       "       'neighbourhood centroid offset std'],\n",
       "      dtype='object')"
      ]
     },
     "execution_count": 23,
     "metadata": {},
     "output_type": "execute_result"
    }
   ],
   "source": [
    "df.columns"
   ]
  },
  {
   "cell_type": "code",
   "execution_count": 36,
   "id": "reasonable-friday",
   "metadata": {},
   "outputs": [
    {
     "data": {
      "application/vnd.jupyter.widget-view+json": {
       "model_id": "71cebec0ea1e42f297196af4b383d949",
       "version_major": 2,
       "version_minor": 0
      },
      "text/plain": [
       "Plot(antialias=True, axes=['x', 'y', 'z'], axes_helper=1.0, background_color=16777215, camera=[2, -3, 0.2, 0.0…"
      ]
     },
     "metadata": {},
     "output_type": "display_data"
    }
   ],
   "source": [
    "vedo.show(nuqloud.Visualisation.show_features(\n",
    "    df.loc[df['sample'] == 'noisy'],\n",
    "    ['voronoi volume']),\n",
    ")"
   ]
  }
 ],
 "metadata": {
  "kernelspec": {
   "display_name": "max_env",
   "language": "python",
   "name": "max_env"
  },
  "language_info": {
   "codemirror_mode": {
    "name": "ipython",
    "version": 3
   },
   "file_extension": ".py",
   "mimetype": "text/x-python",
   "name": "python",
   "nbconvert_exporter": "python",
   "pygments_lexer": "ipython3",
   "version": "3.7.9"
  }
 },
 "nbformat": 4,
 "nbformat_minor": 5
}
