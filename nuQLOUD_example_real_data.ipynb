{
 "cells": [
  {
   "cell_type": "markdown",
   "id": "celtic-aurora",
   "metadata": {},
   "source": [
    "# Example of how to use the nuQLOUD framework\n",
    "In this notebook, we demonstrate how to use the nuQLOUD framework on real data. The used data is part of the publication and consists of one table containing x, y, z coordinates of three samples aged 12 hpf, 24 hpf and 48 hpf. The data also contains annotations of the data.\n",
    "* `sample`: name of the sample. Corresponds to the image file name.\n",
    "* `cell id`: unique number identifying the cell. Has to be > 0 for use with voro++.\n",
    "* `age`: age of the sample in hours post fertilisation (hpf)\n",
    "* `archetype`: boolean; True=Amorphous, False=Crystalline\n",
    "* `cdh1`, `cdh2`: binary expression classification of cells. Expression of E- and N-cadherin. Quantification from transgenic reporter fish lines."
   ]
  },
  {
   "cell_type": "code",
   "execution_count": 25,
   "id": "undefined-breathing",
   "metadata": {},
   "outputs": [],
   "source": [
    "import nuqloud\n",
    "import numpy as np\n",
    "import pandas as pd\n",
    "import matplotlib.pyplot as plt\n",
    "import tqdm\n",
    "import vedo\n",
    "vedo.settings.notebookBackend = 'k3d'\n",
    "vedo.settings.k3dPointShader = '3d'"
   ]
  },
  {
   "cell_type": "markdown",
   "id": "impressed-firmware",
   "metadata": {},
   "source": [
    "## Load data"
   ]
  },
  {
   "cell_type": "code",
   "execution_count": 26,
   "id": "organized-methodology",
   "metadata": {},
   "outputs": [
    {
     "data": {
      "text/html": [
       "<div>\n",
       "<style scoped>\n",
       "    .dataframe tbody tr th:only-of-type {\n",
       "        vertical-align: middle;\n",
       "    }\n",
       "\n",
       "    .dataframe tbody tr th {\n",
       "        vertical-align: top;\n",
       "    }\n",
       "\n",
       "    .dataframe thead th {\n",
       "        text-align: right;\n",
       "    }\n",
       "</style>\n",
       "<table border=\"1\" class=\"dataframe\">\n",
       "  <thead>\n",
       "    <tr style=\"text-align: right;\">\n",
       "      <th></th>\n",
       "      <th>x</th>\n",
       "      <th>y</th>\n",
       "      <th>z</th>\n",
       "      <th>sample</th>\n",
       "      <th>cell id</th>\n",
       "      <th>age</th>\n",
       "      <th>archetype</th>\n",
       "      <th>cdh2</th>\n",
       "      <th>cdh1</th>\n",
       "    </tr>\n",
       "  </thead>\n",
       "  <tbody>\n",
       "    <tr>\n",
       "      <th>0</th>\n",
       "      <td>390.987</td>\n",
       "      <td>469.611</td>\n",
       "      <td>294.366</td>\n",
       "      <td>pseudo_timelapse_cdh12_24hpf_fish01</td>\n",
       "      <td>973</td>\n",
       "      <td>24.0</td>\n",
       "      <td>False</td>\n",
       "      <td>False</td>\n",
       "      <td>True</td>\n",
       "    </tr>\n",
       "    <tr>\n",
       "      <th>1</th>\n",
       "      <td>186.227</td>\n",
       "      <td>435.218</td>\n",
       "      <td>535.213</td>\n",
       "      <td>pseudo_timelapse_cdh12_12hpf_fish02</td>\n",
       "      <td>27478</td>\n",
       "      <td>12.0</td>\n",
       "      <td>True</td>\n",
       "      <td>True</td>\n",
       "      <td>False</td>\n",
       "    </tr>\n",
       "    <tr>\n",
       "      <th>2</th>\n",
       "      <td>117.212</td>\n",
       "      <td>651.048</td>\n",
       "      <td>425.325</td>\n",
       "      <td>pseudo_timelapse_cdh12_48hpf_fish02</td>\n",
       "      <td>113393</td>\n",
       "      <td>48.0</td>\n",
       "      <td>False</td>\n",
       "      <td>True</td>\n",
       "      <td>False</td>\n",
       "    </tr>\n",
       "    <tr>\n",
       "      <th>3</th>\n",
       "      <td>353.837</td>\n",
       "      <td>243.890</td>\n",
       "      <td>215.778</td>\n",
       "      <td>pseudo_timelapse_cdh12_48hpf_fish02</td>\n",
       "      <td>104129</td>\n",
       "      <td>48.0</td>\n",
       "      <td>False</td>\n",
       "      <td>True</td>\n",
       "      <td>False</td>\n",
       "    </tr>\n",
       "    <tr>\n",
       "      <th>4</th>\n",
       "      <td>605.802</td>\n",
       "      <td>157.672</td>\n",
       "      <td>558.818</td>\n",
       "      <td>pseudo_timelapse_cdh12_12hpf_fish02</td>\n",
       "      <td>36584</td>\n",
       "      <td>12.0</td>\n",
       "      <td>False</td>\n",
       "      <td>False</td>\n",
       "      <td>False</td>\n",
       "    </tr>\n",
       "    <tr>\n",
       "      <th>...</th>\n",
       "      <td>...</td>\n",
       "      <td>...</td>\n",
       "      <td>...</td>\n",
       "      <td>...</td>\n",
       "      <td>...</td>\n",
       "      <td>...</td>\n",
       "      <td>...</td>\n",
       "      <td>...</td>\n",
       "      <td>...</td>\n",
       "    </tr>\n",
       "    <tr>\n",
       "      <th>280040</th>\n",
       "      <td>315.597</td>\n",
       "      <td>1665.090</td>\n",
       "      <td>427.916</td>\n",
       "      <td>pseudo_timelapse_cdh12_48hpf_fish02</td>\n",
       "      <td>146389</td>\n",
       "      <td>48.0</td>\n",
       "      <td>True</td>\n",
       "      <td>True</td>\n",
       "      <td>False</td>\n",
       "    </tr>\n",
       "    <tr>\n",
       "      <th>280041</th>\n",
       "      <td>321.760</td>\n",
       "      <td>1814.840</td>\n",
       "      <td>418.610</td>\n",
       "      <td>pseudo_timelapse_cdh12_48hpf_fish02</td>\n",
       "      <td>146390</td>\n",
       "      <td>48.0</td>\n",
       "      <td>True</td>\n",
       "      <td>True</td>\n",
       "      <td>False</td>\n",
       "    </tr>\n",
       "    <tr>\n",
       "      <th>280042</th>\n",
       "      <td>453.660</td>\n",
       "      <td>2401.690</td>\n",
       "      <td>434.272</td>\n",
       "      <td>pseudo_timelapse_cdh12_48hpf_fish02</td>\n",
       "      <td>146391</td>\n",
       "      <td>48.0</td>\n",
       "      <td>True</td>\n",
       "      <td>True</td>\n",
       "      <td>False</td>\n",
       "    </tr>\n",
       "    <tr>\n",
       "      <th>280043</th>\n",
       "      <td>398.821</td>\n",
       "      <td>1519.660</td>\n",
       "      <td>404.287</td>\n",
       "      <td>pseudo_timelapse_cdh12_48hpf_fish02</td>\n",
       "      <td>146394</td>\n",
       "      <td>48.0</td>\n",
       "      <td>False</td>\n",
       "      <td>False</td>\n",
       "      <td>False</td>\n",
       "    </tr>\n",
       "    <tr>\n",
       "      <th>280044</th>\n",
       "      <td>207.167</td>\n",
       "      <td>149.249</td>\n",
       "      <td>263.872</td>\n",
       "      <td>pseudo_timelapse_cdh12_48hpf_fish02</td>\n",
       "      <td>146395</td>\n",
       "      <td>48.0</td>\n",
       "      <td>True</td>\n",
       "      <td>False</td>\n",
       "      <td>False</td>\n",
       "    </tr>\n",
       "  </tbody>\n",
       "</table>\n",
       "<p>280045 rows × 9 columns</p>\n",
       "</div>"
      ],
      "text/plain": [
       "              x         y        z                               sample  \\\n",
       "0       390.987   469.611  294.366  pseudo_timelapse_cdh12_24hpf_fish01   \n",
       "1       186.227   435.218  535.213  pseudo_timelapse_cdh12_12hpf_fish02   \n",
       "2       117.212   651.048  425.325  pseudo_timelapse_cdh12_48hpf_fish02   \n",
       "3       353.837   243.890  215.778  pseudo_timelapse_cdh12_48hpf_fish02   \n",
       "4       605.802   157.672  558.818  pseudo_timelapse_cdh12_12hpf_fish02   \n",
       "...         ...       ...      ...                                  ...   \n",
       "280040  315.597  1665.090  427.916  pseudo_timelapse_cdh12_48hpf_fish02   \n",
       "280041  321.760  1814.840  418.610  pseudo_timelapse_cdh12_48hpf_fish02   \n",
       "280042  453.660  2401.690  434.272  pseudo_timelapse_cdh12_48hpf_fish02   \n",
       "280043  398.821  1519.660  404.287  pseudo_timelapse_cdh12_48hpf_fish02   \n",
       "280044  207.167   149.249  263.872  pseudo_timelapse_cdh12_48hpf_fish02   \n",
       "\n",
       "        cell id   age  archetype   cdh2   cdh1  \n",
       "0           973  24.0      False  False   True  \n",
       "1         27478  12.0       True   True  False  \n",
       "2        113393  48.0      False   True  False  \n",
       "3        104129  48.0      False   True  False  \n",
       "4         36584  12.0      False  False  False  \n",
       "...         ...   ...        ...    ...    ...  \n",
       "280040   146389  48.0       True   True  False  \n",
       "280041   146390  48.0       True   True  False  \n",
       "280042   146391  48.0       True   True  False  \n",
       "280043   146394  48.0      False  False  False  \n",
       "280044   146395  48.0       True  False  False  \n",
       "\n",
       "[280045 rows x 9 columns]"
      ]
     },
     "execution_count": 26,
     "metadata": {},
     "output_type": "execute_result"
    }
   ],
   "source": [
    "df = pd.read_csv('example_data/df_time.csv').drop(['Unnamed: 0'], axis=1)\n",
    "df"
   ]
  },
  {
   "cell_type": "code",
   "execution_count": 27,
   "id": "mechanical-bridges",
   "metadata": {},
   "outputs": [
    {
     "data": {
      "text/plain": [
       "0            973\n",
       "1          27478\n",
       "2         113393\n",
       "3         104129\n",
       "4          36584\n",
       "           ...  \n",
       "280040    146389\n",
       "280041    146390\n",
       "280042    146391\n",
       "280043    146394\n",
       "280044    146395\n",
       "Name: cell id, Length: 280045, dtype: int64"
      ]
     },
     "execution_count": 27,
     "metadata": {},
     "output_type": "execute_result"
    }
   ],
   "source": [
    "df['cell id']"
   ]
  },
  {
   "cell_type": "code",
   "execution_count": 28,
   "id": "creative-wallpaper",
   "metadata": {},
   "outputs": [
    {
     "data": {
      "application/vnd.jupyter.widget-view+json": {
       "model_id": "e1441dccab7e443fbed412952bab2f63",
       "version_major": 2,
       "version_minor": 0
      },
      "text/plain": [
       "Plot(antialias=True, axes=['x', 'y', 'z'], axes_helper=1.0, background_color=16777215, camera=[2, -3, 0.2, 0.0…"
      ]
     },
     "metadata": {},
     "output_type": "display_data"
    }
   ],
   "source": [
    "\n",
    "vedo.show(vedo.Points(df.loc[df['sample']=='pseudo_timelapse_cdh12_48hpf_fish02', list('xyz')].values))"
   ]
  },
  {
   "cell_type": "markdown",
   "id": "horizontal-referral",
   "metadata": {},
   "source": [
    "3D rendering of the initial point distribution. All points are used in the following processing. Colours are just to illustrate the difference in point density in one corner."
   ]
  },
  {
   "cell_type": "markdown",
   "id": "convinced-trick",
   "metadata": {},
   "source": [
    "## Generate restricted Voronoi diagram and organisational features\n",
    "First, we generate a restricted Voronoi diagram using our modified version of voro++. The modification is that we can call a radially restricted Voronoi diagram from the command line (this is not implemented in the original voro++ code).\n",
    "Then we evaluate the Voronoi diagram and generate features from it. Moreover, we generate a kernel density estimation at different length scales (multi scale density). \n",
    "We do this for every sample individually."
   ]
  },
  {
   "cell_type": "code",
   "execution_count": 29,
   "id": "adverse-treasury",
   "metadata": {},
   "outputs": [
    {
     "data": {
      "text/plain": [
       "0        1\n",
       "1        0\n",
       "2        1\n",
       "3        0\n",
       "4        0\n",
       "        ..\n",
       "81993    0\n",
       "81994    0\n",
       "81995    1\n",
       "81996    0\n",
       "81997    2\n",
       "Name: neighbour boundaries, Length: 81998, dtype: int64"
      ]
     },
     "execution_count": 29,
     "metadata": {},
     "output_type": "execute_result"
    }
   ],
   "source": [
    "sdf['neighbour boundaries']"
   ]
  },
  {
   "cell_type": "code",
   "execution_count": null,
   "id": "large-justice",
   "metadata": {},
   "outputs": [
    {
     "name": "stderr",
     "output_type": "stream",
     "text": [
      "Voronoi cell creation: 100%|██████████| 81998/81998 [00:11<00:00, 6889.14it/s]\n",
      "Adaptive radial restriction: 100%|██████████| 49423/49423 [31:53<00:00, 25.82it/s]  \n",
      "Voronoi cell creation: 100%|██████████| 178707/178707 [00:34<00:00, 5128.13it/s]\n",
      "number of neighbours: 100%|██████████| 81998/81998 [04:09<00:00, 328.04it/s]\n",
      "voronoi density:   0%|          | 0/81998 [00:00<?, ?it/s]/home/d.imb.unizh.ch/maxb/anaconda3/envs/max_env/lib/python3.7/site-packages/numpy/core/fromnumeric.py:3420: RuntimeWarning: Mean of empty slice.\n",
      "  out=out, **kwargs)\n",
      "/home/d.imb.unizh.ch/maxb/anaconda3/envs/max_env/lib/python3.7/site-packages/numpy/core/_methods.py:188: RuntimeWarning: invalid value encountered in double_scalars\n",
      "  ret = ret.dtype.type(ret / rcount)\n",
      "/home/d.imb.unizh.ch/maxb/anaconda3/envs/max_env/lib/python3.7/site-packages/numpy/core/_methods.py:262: RuntimeWarning: Degrees of freedom <= 0 for slice\n",
      "  keepdims=keepdims, where=where)\n",
      "/home/d.imb.unizh.ch/maxb/anaconda3/envs/max_env/lib/python3.7/site-packages/numpy/core/_methods.py:222: RuntimeWarning: invalid value encountered in true_divide\n",
      "  subok=False)\n",
      "/home/d.imb.unizh.ch/maxb/anaconda3/envs/max_env/lib/python3.7/site-packages/numpy/core/_methods.py:253: RuntimeWarning: invalid value encountered in double_scalars\n",
      "  ret = ret.dtype.type(ret / rcount)\n",
      "voronoi density: 100%|██████████| 81998/81998 [00:49<00:00, 1655.14it/s]\n",
      "neighbourhood voronoi volume: 100%|██████████| 81998/81998 [00:40<00:00, 2041.58it/s]\n",
      "neighbourhood voronoi sphericity: 100%|██████████| 81998/81998 [00:40<00:00, 2048.96it/s]\n",
      "neighbourhood n neighbours: 100%|██████████| 81998/81998 [00:40<00:00, 2028.41it/s]\n",
      "neighbourhood centroid offset: 100%|██████████| 81998/81998 [00:40<00:00, 2046.45it/s]\n",
      "100%|██████████| 8/8 [00:06<00:00,  1.16it/s]\n",
      "Voronoi cell creation: 100%|██████████| 51655/51655 [00:11<00:00, 4653.93it/s]\n",
      "Adaptive radial restriction:  75%|███████▌  | 24816/33078 [11:31<30:38,  4.49it/s]  "
     ]
    }
   ],
   "source": [
    "list_df = []\n",
    "for sid in df['sample'].unique():\n",
    "    sdf = df.loc[df['sample'] == sid].copy()\n",
    "    sdf = nuqloud.Voronoi.voronoi_restricted(sdf)\n",
    "    sdf = nuqloud.FeatureGeneration.voronoi_features(sdf)\n",
    "    nuqloud.FeatureGeneration.multi_scale_density(sdf, np.arange(5,44,5))\n",
    "    list_df.append(sdf)\n",
    "df = pd.concat(list_df)"
   ]
  },
  {
   "cell_type": "markdown",
   "id": "heated-persian",
   "metadata": {},
   "source": [
    "## Visualisation\n",
    "Here we illustrate the distributions of organisational features on our test data in 3D by colouring the points according to their feature values."
   ]
  },
  {
   "cell_type": "code",
   "execution_count": 19,
   "id": "moved-butter",
   "metadata": {},
   "outputs": [
    {
     "data": {
      "text/plain": [
       "Index(['x', 'y', 'z', 'cell id', 'sample', 'vertex number', 'edge number',\n",
       "       'edge distance', 'face number', 'voronoi surface area',\n",
       "       'voronoi volume', 'voronoi sphericity', 'x centroid', 'y centroid',\n",
       "       'z centroid', 'centroid offset', 'neigbour cell ids',\n",
       "       'neighbour boundaries', 'coordinates vertices', 'vertices per face',\n",
       "       'point type', 'n neighbours', 'density voronoi mean',\n",
       "       'density voronoi std', 'neighbourhood voronoi volume mean',\n",
       "       'neighbourhood voronoi volume std',\n",
       "       'neighbourhood voronoi sphericity mean',\n",
       "       'neighbourhood voronoi sphericity std',\n",
       "       'neighbourhood n neighbours mean', 'neighbourhood n neighbours std',\n",
       "       'neighbourhood centroid offset mean',\n",
       "       'neighbourhood centroid offset std', 'shell 5', 'shell 10', 'shell 15',\n",
       "       'shell 20', 'shell 25', 'shell 30', 'shell 35', 'shell 40'],\n",
       "      dtype='object')"
      ]
     },
     "execution_count": 19,
     "metadata": {},
     "output_type": "execute_result"
    }
   ],
   "source": [
    "df.columns"
   ]
  },
  {
   "cell_type": "code",
   "execution_count": 20,
   "id": "reasonable-friday",
   "metadata": {},
   "outputs": [
    {
     "data": {
      "application/vnd.jupyter.widget-view+json": {
       "model_id": "453dbfb60da3472d872a3fd61f249c8c",
       "version_major": 2,
       "version_minor": 0
      },
      "text/plain": [
       "Plot(antialias=True, axes=['x', 'y', 'z'], axes_helper=1.0, background_color=16777215, camera=[2, -3, 0.2, 0.0…"
      ]
     },
     "metadata": {},
     "output_type": "display_data"
    }
   ],
   "source": [
    "vedo.show(nuqloud.Visualisation.show_features(\n",
    "    df.loc[df['sample'] == 'noisy'],\n",
    "    ['voronoi volume']),\n",
    ")"
   ]
  },
  {
   "cell_type": "code",
   "execution_count": null,
   "id": "featured-discussion",
   "metadata": {},
   "outputs": [],
   "source": []
  }
 ],
 "metadata": {
  "kernelspec": {
   "display_name": "max_env",
   "language": "python",
   "name": "max_env"
  },
  "language_info": {
   "codemirror_mode": {
    "name": "ipython",
    "version": 3
   },
   "file_extension": ".py",
   "mimetype": "text/x-python",
   "name": "python",
   "nbconvert_exporter": "python",
   "pygments_lexer": "ipython3",
   "version": "3.7.9"
  }
 },
 "nbformat": 4,
 "nbformat_minor": 5
}
